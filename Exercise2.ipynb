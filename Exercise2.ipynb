{
  "nbformat": 4,
  "nbformat_minor": 0,
  "metadata": {
    "colab": {
      "provenance": [],
      "authorship_tag": "ABX9TyPCeFN6Ey6kPJaPEOItMgYb",
      "include_colab_link": true
    },
    "kernelspec": {
      "name": "python3",
      "display_name": "Python 3"
    },
    "language_info": {
      "name": "python"
    }
  },
  "cells": [
    {
      "cell_type": "markdown",
      "metadata": {
        "id": "view-in-github",
        "colab_type": "text"
      },
      "source": [
        "<a href=\"https://colab.research.google.com/github/CyruzCabilan/DSA-CPE010-CPE21S4/blob/main/Exercise2.ipynb\" target=\"_parent\"><img src=\"https://colab.research.google.com/assets/colab-badge.svg\" alt=\"Open In Colab\"/></a>"
      ]
    },
    {
      "cell_type": "code",
      "execution_count": 13,
      "metadata": {
        "colab": {
          "base_uri": "https://localhost:8080/"
        },
        "id": "2up1Ic9yXV6w",
        "outputId": "ef368778-d3c7-45e9-9cbb-f31fc30ab10a"
      },
      "outputs": [
        {
          "output_type": "stream",
          "name": "stdout",
          "text": [
            "Area of Rectangle: 32\n",
            "Area of Square: 18\n",
            "Area of Triangle: 12.0\n"
          ]
        }
      ],
      "source": [
        "class Shapes:\n",
        "    def __init__(self, length, width):\n",
        "        self.length = length\n",
        "        self.width = width\n",
        "class Area_Rectangle(Shapes):\n",
        "    def __init__(self, length, width):\n",
        "        super().__init__(length, width)\n",
        "    def Area_Of_Rectangle(self):\n",
        "        return self.length * self.width\n",
        "class Area_Square(Shapes):\n",
        "    def __init__(self, length, width):\n",
        "        super().__init__(length, width)\n",
        "    def Area_Of_Square(self):\n",
        "        return self.length * self.width\n",
        "class Area_Triangle(Shapes):\n",
        "    def __init__(self, length, width):\n",
        "        super().__init__(length, width)\n",
        "    def Area_Of_Triangle(self):\n",
        "        return self.length * self.width * 0.5\n",
        "\n",
        "rectangle = Area_Rectangle(4, 8)\n",
        "square = Area_Square(6, 3)\n",
        "triangle = Area_Triangle(3, 8)\n",
        "\n",
        "rectangle_area = rectangle.Area_Of_Rectangle()\n",
        "square_area = square.Area_Of_Square()\n",
        "triangle_area = triangle.Area_Of_Triangle()\n",
        "\n",
        "print(f\"Area of Rectangle: {rectangle_area}\")\n",
        "print(f\"Area of Square: {square_area}\")\n",
        "print(f\"Area of Triangle: {triangle_area}\")"
      ]
    }
  ]
}