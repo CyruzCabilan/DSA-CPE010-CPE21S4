{
  "nbformat": 4,
  "nbformat_minor": 0,
  "metadata": {
    "colab": {
      "provenance": [],
      "authorship_tag": "ABX9TyNGDO6yZyZvxcRGJysBnesn",
      "include_colab_link": true
    },
    "kernelspec": {
      "name": "python3",
      "display_name": "Python 3"
    },
    "language_info": {
      "name": "python"
    }
  },
  "cells": [
    {
      "cell_type": "markdown",
      "metadata": {
        "id": "view-in-github",
        "colab_type": "text"
      },
      "source": [
        "<a href=\"https://colab.research.google.com/github/CyruzCabilan/DSA-CPE010-CPE21S4/blob/main/Exercise2.ipynb\" target=\"_parent\"><img src=\"https://colab.research.google.com/assets/colab-badge.svg\" alt=\"Open In Colab\"/></a>"
      ]
    },
    {
      "cell_type": "code",
      "source": [
        "class Shapes():\n",
        "  def __init__(self,lenght,width):\n",
        "    self.lenght = lenght\n",
        "    self.width = width\n",
        "def Area_Rectangle(self):\n",
        "  return self.lenght * self.width\n",
        "def Area_Square(self):\n",
        "  return self.width ** 2\n",
        "def Area_Tringle(self):\n",
        "  return self.lenght * self.width * 0.5\n",
        "\n",
        "\n",
        "\n",
        "\n"
      ],
      "metadata": {
        "id": "e-KOLXDT5fAi"
      },
      "execution_count": 10,
      "outputs": []
    }
  ]
}