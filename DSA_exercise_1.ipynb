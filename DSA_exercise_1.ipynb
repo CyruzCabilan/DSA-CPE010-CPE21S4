{
  "nbformat": 4,
  "nbformat_minor": 0,
  "metadata": {
    "colab": {
      "provenance": [],
      "authorship_tag": "ABX9TyPNN59l+UqlHywUt0E9T0Xy",
      "include_colab_link": true
    },
    "kernelspec": {
      "name": "python3",
      "display_name": "Python 3"
    },
    "language_info": {
      "name": "python"
    }
  },
  "cells": [
    {
      "cell_type": "markdown",
      "metadata": {
        "id": "view-in-github",
        "colab_type": "text"
      },
      "source": [
        "<a href=\"https://colab.research.google.com/github/CyruzCabilan/DSA-CPE010-CPE21S4/blob/main/DSA_exercise_1.ipynb\" target=\"_parent\"><img src=\"https://colab.research.google.com/assets/colab-badge.svg\" alt=\"Open In Colab\"/></a>"
      ]
    },
    {
      "cell_type": "markdown",
      "source": [
        "# **Rectangle calculator**"
      ],
      "metadata": {
        "id": "JKBb1FWOw5Wa"
      }
    },
    {
      "cell_type": "code",
      "execution_count": 16,
      "metadata": {
        "colab": {
          "base_uri": "https://localhost:8080/"
        },
        "id": "UTSne2Whf4gi",
        "outputId": "9712d083-05d9-4bfd-e452-8706a3730adc"
      },
      "outputs": [
        {
          "output_type": "stream",
          "name": "stdout",
          "text": [
            "Enter the lenght of the retangle: 5\n",
            "Enter the width of the rectangle: 5\n",
            "area of the rectangle is: 25.00\n"
          ]
        }
      ],
      "source": [
        "class rectangle():\n",
        "  lenght = float(input(\"Enter the lenght of the retangle: \"))\n",
        "  width = float(input(\"Enter the width of the rectangle: \"))\n",
        "\n",
        "\n",
        "  area = lenght * width\n",
        "\n",
        "  perimeter = (lenght + width)\n",
        "\n",
        "  print(\"area of the rectangle is: %.2f\" %area)"
      ]
    }
  ]
}