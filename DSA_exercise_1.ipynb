{
  "nbformat": 4,
  "nbformat_minor": 0,
  "metadata": {
    "colab": {
      "provenance": [],
      "authorship_tag": "ABX9TyNVFLBKD8wm8/hzPkghRP4s",
      "include_colab_link": true
    },
    "kernelspec": {
      "name": "python3",
      "display_name": "Python 3"
    },
    "language_info": {
      "name": "python"
    }
  },
  "cells": [
    {
      "cell_type": "markdown",
      "metadata": {
        "id": "view-in-github",
        "colab_type": "text"
      },
      "source": [
        "<a href=\"https://colab.research.google.com/github/CyruzCabilan/DSA-CPE010-CPE21S4/blob/main/DSA_exercise_1.ipynb\" target=\"_parent\"><img src=\"https://colab.research.google.com/assets/colab-badge.svg\" alt=\"Open In Colab\"/></a>"
      ]
    },
    {
      "cell_type": "markdown",
      "source": [
        "# **Rectangle calculator**"
      ],
      "metadata": {
        "id": "JKBb1FWOw5Wa"
      }
    },
    {
      "cell_type": "code",
      "execution_count": 18,
      "metadata": {
        "colab": {
          "base_uri": "https://localhost:8080/"
        },
        "id": "UTSne2Whf4gi",
        "outputId": "1dd77b6c-257a-4480-a39b-816965fd182d"
      },
      "outputs": [
        {
          "output_type": "stream",
          "name": "stdout",
          "text": [
            "Enter the lenght of the retangle: 6\n",
            "Enter the width of the rectangle: 6\n",
            "area of the rectangle is: 36.00\n"
          ]
        }
      ],
      "source": [
        "class rectangle():\n",
        "  lenght = float(input(\"Enter the lenght of the retangle: \"))\n",
        "  width = float(input(\"Enter the width of the rectangle: \"))\n",
        "  area = lenght * width\n",
        "  perimeter = (lenght + width)\n",
        "  print(\"area of the rectangle is: %.2f\" %area)"
      ]
    }
  ]
}