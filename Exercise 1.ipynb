{
  "nbformat": 4,
  "nbformat_minor": 0,
  "metadata": {
    "colab": {
      "provenance": [],
      "authorship_tag": "ABX9TyMVZU7qjsspbE59OCQdVJ3B",
      "include_colab_link": true
    },
    "kernelspec": {
      "name": "python3",
      "display_name": "Python 3"
    },
    "language_info": {
      "name": "python"
    }
  },
  "cells": [
    {
      "cell_type": "markdown",
      "metadata": {
        "id": "view-in-github",
        "colab_type": "text"
      },
      "source": [
        "<a href=\"https://colab.research.google.com/github/CyruzCabilan/DSA-CPE010-CPE21S4/blob/main/Exercise%201.ipynb\" target=\"_parent\"><img src=\"https://colab.research.google.com/assets/colab-badge.svg\" alt=\"Open In Colab\"/></a>"
      ]
    },
    {
      "cell_type": "code",
      "execution_count": null,
      "metadata": {
        "id": "ELapozOVvJLs"
      },
      "outputs": [],
      "source": [
        "class rectangle():\n",
        "  lenght = float(input(\"Enter the lenght of the retangle: \"))\n",
        "  width = float(input(\"Enter the width of the rectangle: \"))\n",
        "  area = lenght * width\n",
        "  print(\"area of the rectangle is: %.2f\" %area)"
      ]
    }
  ]
}